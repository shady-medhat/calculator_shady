{
 "cells": [
  {
   "cell_type": "code",
   "execution_count": null,
   "id": "bbf3e9d8",
   "metadata": {},
   "outputs": [],
   "source": [
    "class calculator:\n",
    "    def add(self):\n",
    "        print(x + y)\n",
    "    def sub(self):\n",
    "        print(x - y)\n",
    "    def mult(self):\n",
    "        print(x * y)\n",
    "    def div(self):\n",
    "        print(x / y)\n",
    "x = int(input(\"Enter first number:\"))\n",
    "y = int(input(\"Enter second number:\"))\n",
    "clc1 = calculator()\n",
    "choice = 1\n",
    "while choice !=0:\n",
    "    print(\"1. ADDItion\")\n",
    "    print(\"2. SUBTRACTION\")\n",
    "    print(\"3. MULTIPLICATION\")\n",
    "    print(\"4. DIVISION\")\n",
    "    choice = int(input(\"Enter your choice:\"))\n",
    "    if choice == 1:\n",
    "        print(clc1.add())\n",
    "    elif choice == 2:\n",
    "        print(clc1.sub())\n",
    "    elif choice == 3:\n",
    "        print(clc1.mult())\n",
    "    elif choice == 4:\n",
    "        print(clc1.div())\n",
    "    else:\n",
    "        print(\"Invalid choice\")\n",
    "    #bonus part\n",
    "    #bonus = input(\" would u like another operation or not?\") \n",
    "    #if bonus == 'yes'\n",
    "    #continue"
   ]
  },
  {
   "cell_type": "code",
   "execution_count": null,
   "id": "1bb836d4",
   "metadata": {},
   "outputs": [],
   "source": []
  }
 ],
 "metadata": {
  "kernelspec": {
   "display_name": "Python 3 (ipykernel)",
   "language": "python",
   "name": "python3"
  },
  "language_info": {
   "codemirror_mode": {
    "name": "ipython",
    "version": 3
   },
   "file_extension": ".py",
   "mimetype": "text/x-python",
   "name": "python",
   "nbconvert_exporter": "python",
   "pygments_lexer": "ipython3",
   "version": "3.9.12"
  }
 },
 "nbformat": 4,
 "nbformat_minor": 5
}
