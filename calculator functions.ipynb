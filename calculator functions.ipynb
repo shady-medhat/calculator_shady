{
 "cells": [
  {
   "cell_type": "code",
   "execution_count": null,
   "id": "c5c46259",
   "metadata": {},
   "outputs": [],
   "source": [
    "#calculator class\n",
    "class calculator:\n",
    "    def add(self):\n",
    "        print(x + y)\n",
    "    def sub(self):\n",
    "        print(x - y)\n",
    "    def mult(self):\n",
    "        print(x * y)\n",
    "    def div(self):\n",
    "        print(x / y)\n",
    "# conditions \n",
    "  if choice == 1:\n",
    "        print(clc1.add())\n",
    "    elif choice == 2:\n",
    "        print(clc1.sub())\n",
    "    elif choice == 3:\n",
    "        print(clc1.mult())\n",
    "    elif choice == 4:\n",
    "        print(clc1.div())\n",
    "    else:\n",
    "        print(\"Invalid choice\")"
   ]
  }
 ],
 "metadata": {
  "kernelspec": {
   "display_name": "Python 3 (ipykernel)",
   "language": "python",
   "name": "python3"
  },
  "language_info": {
   "codemirror_mode": {
    "name": "ipython",
    "version": 3
   },
   "file_extension": ".py",
   "mimetype": "text/x-python",
   "name": "python",
   "nbconvert_exporter": "python",
   "pygments_lexer": "ipython3",
   "version": "3.9.12"
  }
 },
 "nbformat": 4,
 "nbformat_minor": 5
}
